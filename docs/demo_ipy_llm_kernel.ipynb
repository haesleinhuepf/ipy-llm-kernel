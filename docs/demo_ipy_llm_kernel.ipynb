{
 "cells": [
  {
   "cell_type": "code",
   "execution_count": 1,
   "id": "c728ee7e-6b5e-44e3-ac4d-f4a4a942d387",
   "metadata": {},
   "outputs": [
    {
     "data": {
      "text/markdown": [
       "The capital of France is Paris."
      ],
      "text/plain": [
       "<IPython.core.display.Markdown object>"
      ]
     },
     "metadata": {},
     "output_type": "display_data"
    }
   ],
   "source": [
    "What is the capital of France?"
   ]
  },
  {
   "cell_type": "code",
   "execution_count": 2,
   "id": "b49e7bce-cc79-4b88-88cd-c018d888c074",
   "metadata": {},
   "outputs": [
    {
     "data": {
      "text/markdown": [
       "As of the most recent estimates, Paris, the capital of France, has a population of approximately 2.1 million people within the city limits. However, the Paris metropolitan area, which includes surrounding suburbs, has a population of about 12 million people. Keep in mind that population figures are continually changing due to factors like urbanization, migration, and natural growth."
      ],
      "text/plain": [
       "<IPython.core.display.Markdown object>"
      ]
     },
     "metadata": {},
     "output_type": "display_data"
    }
   ],
   "source": [
    "How many people live there?"
   ]
  },
  {
   "cell_type": "code",
   "execution_count": null,
   "id": "335cdc01-d363-4ce3-890c-1a244fcac2de",
   "metadata": {},
   "outputs": [],
   "source": []
  }
 ],
 "metadata": {
  "kernelspec": {
   "display_name": "LLM Kernel (gpt-4o-2024-08-06)",
   "language": "prompt",
   "name": "llm-kernel"
  },
  "language_info": {
   "codemirror_mode": {
    "name": "prompt"
   },
   "mimetype": "text/x-prompt",
   "name": "prompt"
  }
 },
 "nbformat": 4,
 "nbformat_minor": 5
}
